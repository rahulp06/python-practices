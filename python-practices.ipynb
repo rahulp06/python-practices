{
 "cells": [
  {
   "cell_type": "code",
   "execution_count": 1,
   "id": "1f8d8931-4450-43ef-a97d-956243f8e5fa",
   "metadata": {},
   "outputs": [
    {
     "name": "stdin",
     "output_type": "stream",
     "text": [
      " 3\n"
     ]
    },
    {
     "name": "stdout",
     "output_type": "stream",
     "text": [
      "28.259999999999998\n"
     ]
    }
   ],
   "source": [
    "x=int(input())\n",
    "area=3.14*x*x\n",
    "print(area)"
   ]
  },
  {
   "cell_type": "code",
   "execution_count": 2,
   "id": "a11dc2d7-46ec-487c-96ed-efb3edb01913",
   "metadata": {
    "scrolled": true
   },
   "outputs": [
    {
     "name": "stdin",
     "output_type": "stream",
     "text": [
      " 3\n"
     ]
    },
    {
     "name": "stdout",
     "output_type": "stream",
     "text": [
      "28.274333882308138\n"
     ]
    }
   ],
   "source": [
    "import math\n",
    "x=int(input())\n",
    "area=math.pi*x*x\n",
    "print(area)"
   ]
  },
  {
   "cell_type": "code",
   "execution_count": 5,
   "id": "9219fb6c-41cd-4611-a3f2-0c7842fb2886",
   "metadata": {},
   "outputs": [
    {
     "name": "stdin",
     "output_type": "stream",
     "text": [
      " INDIA\n"
     ]
    },
    {
     "name": "stdout",
     "output_type": "stream",
     "text": [
      "3\n"
     ]
    }
   ],
   "source": [
    "s=input()\n",
    "count=0\n",
    "for i in s:\n",
    "    if i in 'AEIOUaeiou':\n",
    "        count+=1\n",
    "print(count)"
   ]
  },
  {
   "cell_type": "code",
   "execution_count": 6,
   "id": "59e198a7-2df0-4a6d-b9b3-ff473ecbbd1b",
   "metadata": {},
   "outputs": [
    {
     "name": "stdin",
     "output_type": "stream",
     "text": [
      " INDIA\n"
     ]
    },
    {
     "name": "stdout",
     "output_type": "stream",
     "text": [
      "2\n"
     ]
    }
   ],
   "source": [
    "s=input()\n",
    "count=0\n",
    "for i in s:\n",
    "    if i not in 'AEIOUaeiou':\n",
    "        count+=1\n",
    "print(count)"
   ]
  },
  {
   "cell_type": "code",
   "execution_count": 12,
   "id": "630366af-ce13-4c68-9c71-fe5f6c32319f",
   "metadata": {},
   "outputs": [
    {
     "name": "stdout",
     "output_type": "stream",
     "text": [
      "[25, 42, 56, 65, 40, 30]\n"
     ]
    }
   ],
   "source": [
    "l=[30,42,56,70,45,35]\n",
    "l1=[]\n",
    "for i in l:\n",
    "    if i%5==0:\n",
    "        l1.append(i-5)\n",
    "    else:\n",
    "        l1.append(i)\n",
    "print(l1)"
   ]
  },
  {
   "cell_type": "code",
   "execution_count": 15,
   "id": "fd227473-9bb1-4a82-87d9-92ea90b876e8",
   "metadata": {},
   "outputs": [
    {
     "name": "stdout",
     "output_type": "stream",
     "text": [
      "[23, 45, 99, 20]\n",
      "[24, 67, 54]\n"
     ]
    }
   ],
   "source": [
    "l=[23,24,45,67,99,54,20]\n",
    "l1=[]\n",
    "l2=[]\n",
    "for i in l:\n",
    "    if((l.index(i))%2==0):\n",
    "        l1.append(i)\n",
    "    else:\n",
    "        l2.append(i)\n",
    "print(l1)\n",
    "print(l2)"
   ]
  },
  {
   "cell_type": "code",
   "execution_count": 16,
   "id": "0f5bafb7-4151-409c-b985-2d7d9a340118",
   "metadata": {},
   "outputs": [
    {
     "name": "stdout",
     "output_type": "stream",
     "text": [
      "187\n",
      "145\n"
     ]
    }
   ],
   "source": [
    "l=[23,24,45,67,99,54,20]\n",
    "l1=[]\n",
    "l2=[]\n",
    "for i in l:\n",
    "    if((l.index(i))%2==0):\n",
    "        l1.append(i)\n",
    "    else:\n",
    "        l2.append(i)\n",
    "print(sum(l1))\n",
    "print(sum(l2))"
   ]
  },
  {
   "cell_type": "code",
   "execution_count": null,
   "id": "f5861bb2-e5b4-45ad-b5c3-4b7bd234e5aa",
   "metadata": {},
   "outputs": [],
   "source": [
    "l=[23,24,45,67,99,54,20]\n",
    "l1=[]\n",
    "l2=[]\n",
    "for i in l:\n",
    "    if((l.index(i))%2==0):\n",
    "        l1.append(i)\n",
    "    else:\n",
    "        l2.append(i)\n",
    "print(l1)\n",
    "print(l2)"
   ]
  },
  {
   "cell_type": "code",
   "execution_count": 20,
   "id": "1a215186-4325-42a6-bbe0-abf377a47b56",
   "metadata": {},
   "outputs": [
    {
     "name": "stdout",
     "output_type": "stream",
     "text": [
      "['delhi', 'Dadar', 'Danish']\n"
     ]
    }
   ],
   "source": [
    "l=['Mumbai','Hyd','delhi','jaipur','kolkata','chennai','Dadar','Danish']\n",
    "l1=[]\n",
    "for i in l:\n",
    "    if i[0] in 'dD':\n",
    "        l1.append(i)\n",
    "print(l1)"
   ]
  },
  {
   "cell_type": "code",
   "execution_count": null,
   "id": "5f516464-78ea-4e47-a862-678fc04dd99b",
   "metadata": {},
   "outputs": [],
   "source": []
  }
 ],
 "metadata": {
  "kernelspec": {
   "display_name": "Python 3 (ipykernel)",
   "language": "python",
   "name": "python3"
  },
  "language_info": {
   "codemirror_mode": {
    "name": "ipython",
    "version": 3
   },
   "file_extension": ".py",
   "mimetype": "text/x-python",
   "name": "python",
   "nbconvert_exporter": "python",
   "pygments_lexer": "ipython3",
   "version": "3.13.5"
  }
 },
 "nbformat": 4,
 "nbformat_minor": 5
}
